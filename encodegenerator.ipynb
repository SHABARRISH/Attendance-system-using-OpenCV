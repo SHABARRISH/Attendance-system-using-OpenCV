{
 "cells": [
  {
   "cell_type": "code",
   "execution_count": 2,
   "metadata": {},
   "outputs": [],
   "source": [
    "import cv2\n",
    "import face_recognition\n",
    "import pickle\n",
    "import os  # Importing student images"
   ]
  },
  {
   "cell_type": "code",
   "execution_count": 3,
   "metadata": {},
   "outputs": [
    {
     "name": "stdout",
     "output_type": "stream",
     "text": [
      "['elon.jpeg', 'shabarri.JPG', 'suriya.jpg', 'vijay.jpeg']\n",
      "['elon', 'shabarri', 'suriya', 'vijay']\n",
      "Encoding Started ...\n",
      "Encoding Complete\n",
      "File Saved\n"
     ]
    }
   ],
   "source": [
    "\n",
    "\n",
    "# Path to the folder containing student images (use raw string or double backslashes)\n",
    "folderPath = r'A:\\FACEDETECTION\\images123'  # Correct the path syntax\n",
    "pathList = os.listdir(folderPath)  # Get list of files in the folder\n",
    "print(pathList)\n",
    "\n",
    "imgList = []\n",
    "studentIds = []\n",
    "\n",
    "# Load images and extract student IDs\n",
    "for path in pathList:\n",
    "    img = cv2.imread(os.path.join(folderPath, path))  # Read image\n",
    "    imgList.append(img)  # Add image to list\n",
    "    studentIds.append(os.path.splitext(path)[0])  # Extract student ID from filename\n",
    "\n",
    "print(studentIds)\n",
    "\n",
    "# Function to find encodings of the images\n",
    "def findEncodings(imagesList):\n",
    "    encodeList = []\n",
    "    for img in imagesList:\n",
    "        img = cv2.cvtColor(img, cv2.COLOR_BGR2RGB)  # Convert image from BGR to RGB\n",
    "        encode = face_recognition.face_encodings(img)  # Get face encodings\n",
    "        if encode:  # Check if encodings are found\n",
    "            encodeList.append(encode[0])  # Append first encoding if exists\n",
    "    return encodeList\n",
    "\n",
    "print(\"Encoding Started ...\")\n",
    "encodeListKnown = findEncodings(imgList)  # Get encodings for known images\n",
    "encodeListKnownWithIds = [encodeListKnown, studentIds]  # Combine encodings with IDs\n",
    "print(\"Encoding Complete\")\n",
    "\n",
    "# Save the encodings to a file\n",
    "with open(\"EncodeFile.p\", 'wb') as file:\n",
    "    pickle.dump(encodeListKnownWithIds, file)\n",
    "\n",
    "print(\"File Saved\")\n"
   ]
  }
 ],
 "metadata": {
  "kernelspec": {
   "display_name": "envpytorch",
   "language": "python",
   "name": "python3"
  },
  "language_info": {
   "codemirror_mode": {
    "name": "ipython",
    "version": 3
   },
   "file_extension": ".py",
   "mimetype": "text/x-python",
   "name": "python",
   "nbconvert_exporter": "python",
   "pygments_lexer": "ipython3",
   "version": "3.12.5"
  }
 },
 "nbformat": 4,
 "nbformat_minor": 2
}
